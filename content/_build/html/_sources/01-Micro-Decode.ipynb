{
 "cells": [
  {
   "cell_type": "markdown",
   "metadata": {},
   "source": [
    "# Chapter 1. Basic materials for 16S analysis"
   ]
  },
  {
   "cell_type": "markdown",
   "metadata": {},
   "source": [
    "```{epigraph}\n",
    "You cannot teach a man anything; you can only help him find it within himself.\n",
    "\n",
    "-- To The Beginners \n",
    "```"
   ]
  },
  {
   "cell_type": "markdown",
   "metadata": {},
   "source": [
    "\n",
    "## 1.1 Basic Introduction\n",
    "\n",
    "This chapter aims to lay down the foundations of your to microbiota analysis using QIIME2. By the end of the chapter, you will know:\n",
    "* How to install QIIME2 in your computer\n",
    "* The basic syntax and command line for using QIIME2\n",
    "\n",
    "QIIME2 has provided a quite user-friendly documents, check:\n",
    "- https://docs.qiime2.org/2024.10/tutorials/overview/\n",
    "\n",
    "We will use the data from NEEN project (Johnson, et al, 2025) which is available through SRA database using accession number PRJNA1121063.\n",
    "\n",
    "Downloading instruction can be find here: https://bioinformaticsworkbook.org/dataAcquisition/fileTransfer/sra.html.\n",
    "\n",
    "But it is also ok to ask the data in person from me.\n"
   ]
  },
  {
   "cell_type": "markdown",
   "metadata": {},
   "source": [
    "```{Note}\n",
    "The tutorial's command will depends on version: qiime2-2023.2. The code might be changed slightly when you use different version of QIIME2\n",
    "```"
   ]
  },
  {
   "cell_type": "markdown",
   "metadata": {},
   "source": [
    "\n",
    "### 1.1.1 What is QIIME2?\n",
    "\n",
    "QIIME 2 is a powerful, extensible, and decentralized microbiome analysis package with a focus on data and analysis transparency. QIIME 2 enables researchers to start an analysis with raw DNA sequence data and finish with publication-quality figures and statistical results.\n",
    "\n",
    "Key features:\n",
    "* Integrated and automatic tracking of data provenance\n",
    "* Semantic type system\n",
    "* Plugin system for extending microbiome analysis functionality\n",
    "* Support for multiple types of user interfaces (e.g. API, command line, graphical)\n",
    "\n",
    "QIIME 2 is a complete redesign and rewrite of the QIIME 1 microbiome analysis pipeline. \n"
   ]
  },
  {
   "cell_type": "markdown",
   "metadata": {},
   "source": [
    "### 1.1.2 QIIME2 artifacts and visualizations\n",
    "\n",
    "QIIME2 piepline contains two main types of files: input/output to QIIME 2 is in the form of QIIME 2 artifacts (.qza file extension) and QIIME 2 visualizations (.qzv file extension). \n"
   ]
  },
  {
   "cell_type": "markdown",
   "metadata": {},
   "source": [
    "::::{grid}\n",
    ":gutter: 3\n",
    "\n",
    ":::{grid-item-card} QIIME 2 artifacts (.qza)\n",
    "are objects that stores both data and metadata generated from a specific step in the pipeline.\n",
    "- You can observe what type of data is contained in an artifact with the command `qiime tools peek filename.qza`.\n",
    ":::\n",
    "\n",
    ":::{grid-item-card} QIIME 2 visualization (.qzv)\n",
    "contains the data to be visualized. \n",
    "- All QIIME 2 files (So both qza and qzv) can be viewed using a web browser with the `qiime tools view` command. Examples: [view](https://view.qiime2.org/visualization/?src=https://docs.qiime2.org/2024.10/data/tutorials/moving-pictures-usage/table.qzv). Try to explore this interactive platform. The online browser is also available at https://view.qiime2.org.\n",
    ":::\n",
    "\n",
    "::::"
   ]
  },
  {
   "cell_type": "markdown",
   "metadata": {},
   "source": [
    "\n",
    "The raw data in these files can be accessed using the command `qiime tools export` ."
   ]
  },
  {
   "cell_type": "markdown",
   "metadata": {},
   "source": [
    "## 1.2 Prepare for the QIIME2\n",
    "\n",
    "This chapter will introduce some basic knowledge that you need to use QIIME2.\n"
   ]
  },
  {
   "cell_type": "markdown",
   "metadata": {},
   "source": [
    "### 1.2.1 Prepare for the QIIME2: Installation\n",
    "\n",
    "The installation will vary depends on your computer systems. Check:\n",
    "- https://docs.qiime2.org/2024.10/install/\n",
    "\n",
    "Or you can directly use Galaxy for graphical interface, which is a web-based platform for accessible, reproducible, and scalable biomedical data analyses (free).\n",
    "- https://forum.qiime2.org/t/qiime-2-available-on-public-galaxy-server/26220\n",
    "\n",
    "If you choose to use command line, then I would suggest to use `conda` to install\n"
   ]
  },
  {
   "cell_type": "markdown",
   "metadata": {},
   "source": [
    "### 1.2.2 Prepare for the QIIME2: Sequencing data\n",
    "\n",
    "\n",
    "- Is your data clean? adpater, primer, barcode?\n",
    "- Which region is your data targeting?\n",
    "- Has your data been demultiplexed? \n",
    "- Is your data paired end or single end?\n",
    "- Phred33 or Phred64?\n",
    "\n",
    "what is adpater, primer, barcode?\n",
    "* Adapters: Facilitate attachment of DNA fragments to the sequencing platform.\n",
    "* Primers: Initiate the amplification of the target region (16S rRNA gene).\n",
    "* Barcodes: Distinguish between different samples in a multiplexed sequencing approach.\n",
    "\n",
    "Fasta file from 16S is relatively small, therefore you can directly open the file by the text editors in your computer. Go and copy and paste several sequence from your file.\n",
    "\n",
    "This step is very important as you will need to specify which type of data you have when you want to import your data into QIIME2, check [Importing data](https://docs.qiime2.org/2024.10/tutorials/importing/#sequence-data-with-sequence-quality-information-i-e-fastq):\n"
   ]
  },
  {
   "cell_type": "markdown",
   "metadata": {},
   "source": [
    "### 1.2.3 Prepare for the QIIME2: sample metadata\n",
    "\n",
    "Sample metadata is saved in a tab-separated text file (.tsv). Each row corresponds to a sample, while each column denotes a specific metadata category. The first line serves as a header, listing the names of the metadata categories. **The first column contains the sample names, which must match the names used in the Sample identifier of the FASTA files**.\n",
    "\n",
    "- This file was used for the software to do statistics based on your grouping\n",
    "- also provide some information regarding the sequencing, e.g.  BarcodeSequence, LinkerPrimerSequence\n",
    "- The column name for the sample names is fixed.\n",
    "\n",
    "Check the [Link](https://data.qiime2.org/2024.10/tutorials/moving-pictures/sample_metadata) for an example.\n"
   ]
  },
  {
   "cell_type": "markdown",
   "metadata": {},
   "source": [
    "### More\n",
    "\n",
    "Check the official [\"Moving pictures tutorial\"](https://docs.qiime2.org/2024.10/tutorials/moving-pictures-usage/#introduction). Read From \"Introduction\" to \"Obtaining and importing data\"\n"
   ]
  },
  {
   "cell_type": "markdown",
   "metadata": {},
   "source": [
    "Check Points (End of the week)\n",
    "\n",
    "- Whether you have your software installed or settled with Galaxy?\n",
    "- Whether you have a proper sample metadata?\n",
    "- Whether you have a proper understanding towards your sequencing data?\n",
    "- Try using the command based on the sample qza and qzv shared within the moving pictures tutorial?"
   ]
  }
 ],
 "metadata": {
  "kernelspec": {
   "display_name": "R",
   "language": "R",
   "name": "ir"
  },
  "language_info": {
   "codemirror_mode": "r",
   "file_extension": ".r",
   "mimetype": "text/x-r-source",
   "name": "R",
   "pygments_lexer": "r",
   "version": "4.4.1"
  },
  "latex_envs": {
   "LaTeX_envs_menu_present": true,
   "autoclose": false,
   "autocomplete": false,
   "bibliofile": "biblio.bib",
   "cite_by": "apalike",
   "current_citInitial": 1,
   "eqLabelWithNumbers": true,
   "eqNumInitial": 1,
   "hotkeys": {
    "equation": "Ctrl-E",
    "itemize": "Ctrl-I"
   },
   "labels_anchors": false,
   "latex_user_defs": false,
   "report_style_numbering": false,
   "user_envs_cfg": false
  },
  "toc": {
   "base_numbering": 1,
   "nav_menu": {},
   "number_sections": true,
   "sideBar": true,
   "skip_h1_title": false,
   "title_cell": "Contents",
   "title_sidebar": "Contents",
   "toc_cell": false,
   "toc_position": {
    "height": "447.67px",
    "left": "33.6667px",
    "top": "422px",
    "width": "310.288px"
   },
   "toc_section_display": true,
   "toc_window_display": true
  },
  "toc-autonumbering": true
 },
 "nbformat": 4,
 "nbformat_minor": 4
}
